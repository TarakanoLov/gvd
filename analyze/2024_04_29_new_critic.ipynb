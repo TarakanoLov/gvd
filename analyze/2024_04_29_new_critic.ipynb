{
 "cells": [
  {
   "cell_type": "code",
   "execution_count": 1,
   "metadata": {},
   "outputs": [],
   "source": [
    "import numpy as np\n",
    "import pickle"
   ]
  },
  {
   "cell_type": "code",
   "execution_count": 2,
   "metadata": {},
   "outputs": [
    {
     "name": "stdout",
     "output_type": "stream",
     "text": [
      "1\n",
      "2\n",
      "3\n",
      "4\n",
      "7\n",
      "8\n"
     ]
    }
   ],
   "source": [
    "x_train_1 = np.load('../ml/x_train4800.npz')\n",
    "x_train_1 = x_train_1.f.arr_0\n",
    "y_train_1 = np.load('../ml/y_train4800.npz')\n",
    "y_train_1 = y_train_1.f.arr_0\n",
    "\"\"\"\n",
    "print(1)\n",
    "\n",
    "x_train_2 = np.load('../ml/x_train7200.npz')\n",
    "x_train_2 = x_train_2.f.arr_0\n",
    "y_train_2 = np.load('../ml/y_train7200.npz')\n",
    "y_train_2 = y_train_2.f.arr_0\n",
    "\n",
    "print(2)\n",
    "\n",
    "x_train_2 = np.load('../ml/x_train7200.npz')\n",
    "x_train_2 = x_train_2.f.arr_0\n",
    "y_train_2 = np.load('../ml/y_train7200.npz')\n",
    "y_train_2 = y_train_2.f.arr_0\n",
    "\n",
    "print(3)\n",
    "\n",
    "x_train_3 = np.load('../ml/x_train9600.npz')\n",
    "x_train_3 = x_train_3.f.arr_0\n",
    "y_train_3 = np.load('../ml/y_train9600.npz')\n",
    "y_train_3 = y_train_3.f.arr_0\n",
    "\n",
    "print(4)\n",
    "\n",
    "x_train_4 = np.load('../ml/x_train12000.npz')\n",
    "x_train_4 = x_train_4.f.arr_0\n",
    "y_train_4 = np.load('../ml/y_train12000.npz')\n",
    "y_train_4 = y_train_4.f.arr_0\n",
    "\n",
    "print(5)\n",
    "\n",
    "x_train_5 = np.load('../ml/x_train14400.npz')\n",
    "x_train_5 = x_train_5.f.arr_0\n",
    "y_train_5 = np.load('../ml/y_train14400.npz')\n",
    "y_train_5 = y_train_5.f.arr_0\n",
    "\n",
    "print(6)\n",
    "\n",
    "x_train_6 = np.load('../ml/x_train16800.npz')\n",
    "x_train_6 = x_train_6.f.arr_0\n",
    "y_train_6 = np.load('../ml/y_train16800.npz')\n",
    "y_train_6 = y_train_6.f.arr_0\n",
    "\"\"\"\n",
    "print(7)\n",
    "\n",
    "\n",
    "print(8)\n",
    "\n",
    "x_test = np.load('../ml/x_train2400.npz')\n",
    "x_test = x_test.f.arr_0\n",
    "y_test = np.load('../ml/y_train2400.npz')\n",
    "y_test = y_test.f.arr_0"
   ]
  },
  {
   "cell_type": "code",
   "execution_count": 3,
   "metadata": {},
   "outputs": [],
   "source": [
    "#x_train = np.concatenate([x_train_1, x_train_2, x_train_3, x_train_4, x_train_5, x_train_6], axis=0)\n",
    "x_train = np.concatenate([x_train_1, x_train_2, x_train_3, x_train_4], axis=0)"
   ]
  },
  {
   "cell_type": "code",
   "execution_count": 4,
   "metadata": {},
   "outputs": [],
   "source": [
    "y_train = np.concatenate([y_train_1, y_train_2, y_train_3, y_train_4], axis=0)"
   ]
  },
  {
   "cell_type": "code",
   "execution_count": null,
   "metadata": {},
   "outputs": [],
   "source": [
    "#y_test = (y_test > 0.0).astype(float)*2 - 1\n",
    "#y_train = (y_train > 0.0).astype(float)*2 - 1\n",
    "x_train.shape"
   ]
  },
  {
   "cell_type": "code",
   "execution_count": 14,
   "metadata": {},
   "outputs": [
    {
     "data": {
      "text/plain": [
       "array([[ 35.,   6.,  29., ...,  36., 129., 128.],\n",
       "       [ 33.,  15.,  34., ...,  73., 127.,  35.],\n",
       "       [ 33.,   0.,   1., ...,   2., 149.,  76.],\n",
       "       ...,\n",
       "       [ 24.,  13.,  28., ...,  -1.,   6., 138.],\n",
       "       [ 11.,   6.,  43., ...,   8.,  -1.,  36.],\n",
       "       [ 30.,  13.,  41., ...,  18.,  29., 154.]])"
      ]
     },
     "execution_count": 14,
     "metadata": {},
     "output_type": "execute_result"
    }
   ],
   "source": [
    "x_test"
   ]
  },
  {
   "cell_type": "code",
   "execution_count": 5,
   "metadata": {},
   "outputs": [],
   "source": [
    "import lightgbm as lgb\n",
    "\n",
    "train_data = lgb.Dataset(x_train, label=y_train)\n",
    " \n",
    "# Create a LightGBM dataset for testing with features X_val and labels Y_val,\n",
    "# and specify the reference dataset as train_data for consistent evaluation\n",
    "test_data = lgb.Dataset(x_test, label=y_test, reference=train_data)"
   ]
  },
  {
   "cell_type": "code",
   "execution_count": null,
   "metadata": {},
   "outputs": [
    {
     "name": "stdout",
     "output_type": "stream",
     "text": [
      "[LightGBM] [Warning] Auto-choosing col-wise multi-threading, the overhead of testing was 16.308574 seconds.\n",
      "You can set `force_col_wise=true` to remove the overhead.\n",
      "[LightGBM] [Info] Total Bins 53283\n",
      "[LightGBM] [Info] Number of data points in the train set: 4620774, number of used features: 220\n",
      "[LightGBM] [Info] Start training from score 0.003165\n",
      "[1]\tvalid_0's l2: 0.319716\n",
      "Training until validation scores don't improve for 50 rounds\n",
      "[2]\tvalid_0's l2: 0.305496\n",
      "[3]\tvalid_0's l2: 0.293664\n",
      "[4]\tvalid_0's l2: 0.283556\n",
      "[5]\tvalid_0's l2: 0.275063\n",
      "[6]\tvalid_0's l2: 0.267609\n",
      "[7]\tvalid_0's l2: 0.261444\n",
      "[8]\tvalid_0's l2: 0.256097\n",
      "[9]\tvalid_0's l2: 0.251223\n",
      "[10]\tvalid_0's l2: 0.246684\n",
      "[11]\tvalid_0's l2: 0.242881\n",
      "[12]\tvalid_0's l2: 0.239366\n",
      "[13]\tvalid_0's l2: 0.235988\n",
      "[14]\tvalid_0's l2: 0.233173\n",
      "[15]\tvalid_0's l2: 0.230398\n",
      "[16]\tvalid_0's l2: 0.227637\n",
      "[17]\tvalid_0's l2: 0.225226\n",
      "[18]\tvalid_0's l2: 0.222906\n",
      "[19]\tvalid_0's l2: 0.220829\n",
      "[20]\tvalid_0's l2: 0.218737\n",
      "[21]\tvalid_0's l2: 0.21684\n",
      "[22]\tvalid_0's l2: 0.215041\n",
      "[23]\tvalid_0's l2: 0.213413\n",
      "[24]\tvalid_0's l2: 0.211884\n",
      "[25]\tvalid_0's l2: 0.210217\n",
      "[26]\tvalid_0's l2: 0.208723\n",
      "[27]\tvalid_0's l2: 0.207298\n",
      "[28]\tvalid_0's l2: 0.206024\n",
      "[29]\tvalid_0's l2: 0.204788\n",
      "[30]\tvalid_0's l2: 0.203537\n",
      "[31]\tvalid_0's l2: 0.202358\n",
      "[32]\tvalid_0's l2: 0.201293\n",
      "[33]\tvalid_0's l2: 0.200145\n",
      "[34]\tvalid_0's l2: 0.199096\n",
      "[35]\tvalid_0's l2: 0.198085\n",
      "[36]\tvalid_0's l2: 0.197038\n",
      "[37]\tvalid_0's l2: 0.196109\n",
      "[38]\tvalid_0's l2: 0.195167\n",
      "[39]\tvalid_0's l2: 0.19438\n",
      "[40]\tvalid_0's l2: 0.193524\n",
      "[41]\tvalid_0's l2: 0.192651\n",
      "[42]\tvalid_0's l2: 0.19186\n",
      "[43]\tvalid_0's l2: 0.191052\n",
      "[44]\tvalid_0's l2: 0.190237\n",
      "[45]\tvalid_0's l2: 0.18956\n",
      "[46]\tvalid_0's l2: 0.188852\n",
      "[47]\tvalid_0's l2: 0.188085\n",
      "[48]\tvalid_0's l2: 0.18741\n",
      "[49]\tvalid_0's l2: 0.18671\n",
      "[50]\tvalid_0's l2: 0.186045\n",
      "[51]\tvalid_0's l2: 0.185393\n",
      "[52]\tvalid_0's l2: 0.18473\n",
      "[53]\tvalid_0's l2: 0.184137\n",
      "[54]\tvalid_0's l2: 0.183558\n",
      "[55]\tvalid_0's l2: 0.182989\n",
      "[56]\tvalid_0's l2: 0.182432\n",
      "[57]\tvalid_0's l2: 0.181791\n",
      "[58]\tvalid_0's l2: 0.181275\n",
      "[59]\tvalid_0's l2: 0.18075\n",
      "[60]\tvalid_0's l2: 0.180217\n",
      "[61]\tvalid_0's l2: 0.1796\n",
      "[62]\tvalid_0's l2: 0.179132\n",
      "[63]\tvalid_0's l2: 0.178594\n",
      "[64]\tvalid_0's l2: 0.178106\n",
      "[65]\tvalid_0's l2: 0.177607\n",
      "[66]\tvalid_0's l2: 0.176995\n",
      "[67]\tvalid_0's l2: 0.176563\n",
      "[68]\tvalid_0's l2: 0.176078\n",
      "[69]\tvalid_0's l2: 0.175677\n",
      "[70]\tvalid_0's l2: 0.1752\n",
      "[71]\tvalid_0's l2: 0.174743\n",
      "[72]\tvalid_0's l2: 0.174373\n",
      "[73]\tvalid_0's l2: 0.173953\n",
      "[74]\tvalid_0's l2: 0.173567\n",
      "[75]\tvalid_0's l2: 0.173223\n",
      "[76]\tvalid_0's l2: 0.172878\n",
      "[77]\tvalid_0's l2: 0.172487\n",
      "[78]\tvalid_0's l2: 0.172122\n",
      "[79]\tvalid_0's l2: 0.171596\n",
      "[80]\tvalid_0's l2: 0.171229\n",
      "[81]\tvalid_0's l2: 0.170911\n",
      "[82]\tvalid_0's l2: 0.170519\n",
      "[83]\tvalid_0's l2: 0.170228\n",
      "[84]\tvalid_0's l2: 0.169925\n",
      "[85]\tvalid_0's l2: 0.16961\n",
      "[86]\tvalid_0's l2: 0.169338\n",
      "[87]\tvalid_0's l2: 0.168981\n",
      "[88]\tvalid_0's l2: 0.168673\n",
      "[89]\tvalid_0's l2: 0.168399\n",
      "[90]\tvalid_0's l2: 0.168121\n",
      "[91]\tvalid_0's l2: 0.167883\n",
      "[92]\tvalid_0's l2: 0.167627\n",
      "[93]\tvalid_0's l2: 0.167377\n",
      "[94]\tvalid_0's l2: 0.167121\n",
      "[95]\tvalid_0's l2: 0.166752\n",
      "[96]\tvalid_0's l2: 0.166519\n",
      "[97]\tvalid_0's l2: 0.166226\n",
      "[98]\tvalid_0's l2: 0.165982\n",
      "[99]\tvalid_0's l2: 0.165767\n",
      "[100]\tvalid_0's l2: 0.165557\n",
      "[101]\tvalid_0's l2: 0.165299\n",
      "[102]\tvalid_0's l2: 0.164951\n",
      "[103]\tvalid_0's l2: 0.164641\n",
      "[104]\tvalid_0's l2: 0.164411\n",
      "[105]\tvalid_0's l2: 0.164169\n",
      "[106]\tvalid_0's l2: 0.163951\n",
      "[107]\tvalid_0's l2: 0.163745\n",
      "[108]\tvalid_0's l2: 0.163555\n",
      "[109]\tvalid_0's l2: 0.163355\n",
      "[110]\tvalid_0's l2: 0.163104\n",
      "[111]\tvalid_0's l2: 0.162899\n",
      "[112]\tvalid_0's l2: 0.162687\n",
      "[113]\tvalid_0's l2: 0.162487\n",
      "[114]\tvalid_0's l2: 0.16227\n",
      "[115]\tvalid_0's l2: 0.162095\n",
      "[116]\tvalid_0's l2: 0.161929\n",
      "[117]\tvalid_0's l2: 0.161742\n",
      "[118]\tvalid_0's l2: 0.161585\n",
      "[119]\tvalid_0's l2: 0.161371\n",
      "[120]\tvalid_0's l2: 0.16121\n",
      "[121]\tvalid_0's l2: 0.16105\n",
      "[122]\tvalid_0's l2: 0.160893\n",
      "[123]\tvalid_0's l2: 0.160739\n",
      "[124]\tvalid_0's l2: 0.160559\n",
      "[125]\tvalid_0's l2: 0.160388\n",
      "[126]\tvalid_0's l2: 0.160136\n",
      "[127]\tvalid_0's l2: 0.159982\n",
      "[128]\tvalid_0's l2: 0.159789\n",
      "[129]\tvalid_0's l2: 0.159576\n",
      "[130]\tvalid_0's l2: 0.159419\n",
      "[131]\tvalid_0's l2: 0.159281\n",
      "[132]\tvalid_0's l2: 0.159127\n",
      "[133]\tvalid_0's l2: 0.159002\n",
      "[134]\tvalid_0's l2: 0.158877\n",
      "[135]\tvalid_0's l2: 0.15873\n",
      "[136]\tvalid_0's l2: 0.15854\n",
      "[137]\tvalid_0's l2: 0.158402\n",
      "[138]\tvalid_0's l2: 0.158262\n",
      "[139]\tvalid_0's l2: 0.158166\n",
      "[140]\tvalid_0's l2: 0.158048\n",
      "[141]\tvalid_0's l2: 0.157864\n",
      "[142]\tvalid_0's l2: 0.157731\n",
      "[143]\tvalid_0's l2: 0.157583\n",
      "[144]\tvalid_0's l2: 0.157482\n",
      "[145]\tvalid_0's l2: 0.15731\n",
      "[146]\tvalid_0's l2: 0.157138\n",
      "[147]\tvalid_0's l2: 0.157038\n",
      "[148]\tvalid_0's l2: 0.15691\n",
      "[149]\tvalid_0's l2: 0.156816\n",
      "[150]\tvalid_0's l2: 0.156652\n",
      "[151]\tvalid_0's l2: 0.156495\n",
      "[152]\tvalid_0's l2: 0.156374\n",
      "[153]\tvalid_0's l2: 0.156275\n",
      "[154]\tvalid_0's l2: 0.156165\n",
      "[155]\tvalid_0's l2: 0.156059\n",
      "[156]\tvalid_0's l2: 0.155974\n",
      "[157]\tvalid_0's l2: 0.15585\n",
      "[158]\tvalid_0's l2: 0.15571\n",
      "[159]\tvalid_0's l2: 0.155562\n",
      "[160]\tvalid_0's l2: 0.155447\n",
      "[161]\tvalid_0's l2: 0.155378\n",
      "[162]\tvalid_0's l2: 0.155271\n",
      "[163]\tvalid_0's l2: 0.155179\n",
      "[164]\tvalid_0's l2: 0.155084\n",
      "[165]\tvalid_0's l2: 0.154961\n",
      "[166]\tvalid_0's l2: 0.154868\n",
      "[167]\tvalid_0's l2: 0.15478\n",
      "[168]\tvalid_0's l2: 0.15471\n"
     ]
    }
   ],
   "source": [
    "params = {\n",
    "    'objective': 'regression',\n",
    "    'metric': 'mse',\n",
    "    'learning_rate': 0.2\n",
    "}\n",
    "# 0.14229\n",
    "num_round = 10000\n",
    "bst = lgb.train(params, train_data, num_round, valid_sets=[\n",
    "                test_data], early_stopping_rounds=50)"
   ]
  },
  {
   "cell_type": "code",
   "execution_count": 17,
   "metadata": {},
   "outputs": [
    {
     "data": {
      "text/plain": [
       "array([ 0.43930616, -0.22495369,  0.59613679, -1.20382113,  1.1814764 ,\n",
       "       -0.63594428,  0.14447957, -0.16605443,  1.7059398 ,  0.2521981 ])"
      ]
     },
     "execution_count": 17,
     "metadata": {},
     "output_type": "execute_result"
    }
   ],
   "source": [
    "bst.predict(x_test[:10])"
   ]
  },
  {
   "cell_type": "code",
   "execution_count": 19,
   "metadata": {},
   "outputs": [
    {
     "data": {
      "text/plain": [
       "array([ 0.5, -0.5,  0.5, -0.5,  0.5,  0.5,  0.5, -0.5,  0.5,  0.5])"
      ]
     },
     "execution_count": 19,
     "metadata": {},
     "output_type": "execute_result"
    }
   ],
   "source": [
    "y_test[:10] / 2"
   ]
  },
  {
   "cell_type": "code",
   "execution_count": 9,
   "metadata": {},
   "outputs": [
    {
     "data": {
      "text/plain": [
       "<lightgbm.basic.Booster at 0x250ce028e48>"
      ]
     },
     "execution_count": 9,
     "metadata": {},
     "output_type": "execute_result"
    }
   ],
   "source": [
    "bst.save_model('new_critic.txt')"
   ]
  },
  {
   "cell_type": "code",
   "execution_count": null,
   "metadata": {},
   "outputs": [],
   "source": []
  }
 ],
 "metadata": {
  "kernelspec": {
   "display_name": "Python 3",
   "language": "python",
   "name": "python3"
  },
  "language_info": {
   "codemirror_mode": {
    "name": "ipython",
    "version": 3
   },
   "file_extension": ".py",
   "mimetype": "text/x-python",
   "name": "python",
   "nbconvert_exporter": "python",
   "pygments_lexer": "ipython3",
   "version": "3.6.10"
  }
 },
 "nbformat": 4,
 "nbformat_minor": 4
}
