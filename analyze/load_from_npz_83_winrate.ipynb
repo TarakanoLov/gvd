{
 "cells": [
  {
   "cell_type": "code",
   "execution_count": 12,
   "metadata": {},
   "outputs": [],
   "source": [
    "import numpy as np\n",
    "import pickle"
   ]
  },
  {
   "cell_type": "code",
   "execution_count": 4,
   "metadata": {},
   "outputs": [],
   "source": [
    "x_train = np.load('../ml/compressed_x_train2400.npy.npz')\n",
    "x_train = x_train.f.arr_0\n",
    "y_train = np.load('../ml/compressed_y_train2400.npy.npz')\n",
    "y_train = y_train.f.arr_0\n",
    "\n",
    "x_test = np.load('../ml/compressed_x_train1200.npy.npz')\n",
    "x_test = x_test.f.arr_0\n",
    "y_test = np.load('../ml/compressed_y_train1200.npy.npz')\n",
    "y_test = y_test.f.arr_0"
   ]
  },
  {
   "cell_type": "code",
   "execution_count": 13,
   "metadata": {},
   "outputs": [],
   "source": [
    "with open(f'../ml/x_train.pkl', 'rb') as f:\n",
    "    x_train = np.concatenate([x_train, pickle.load(f)], axis=0)\n",
    "with open(f'../ml/y_train.pkl', 'rb') as f:\n",
    "    y_train = np.concatenate([y_train, pickle.load(f)], axis=0)"
   ]
  },
  {
   "cell_type": "code",
   "execution_count": 36,
   "metadata": {},
   "outputs": [
    {
     "data": {
      "text/plain": [
       "array([ 0.9025    ,  0.35848592, -0.54036009, ...,  0.34056163,\n",
       "       -0.44012667,  0.48767498])"
      ]
     },
     "execution_count": 36,
     "metadata": {},
     "output_type": "execute_result"
    }
   ],
   "source": [
    "y_test"
   ]
  },
  {
   "cell_type": "code",
   "execution_count": null,
   "metadata": {},
   "outputs": [],
   "source": []
  },
  {
   "cell_type": "code",
   "execution_count": null,
   "metadata": {},
   "outputs": [],
   "source": []
  },
  {
   "cell_type": "code",
   "execution_count": 31,
   "metadata": {},
   "outputs": [
    {
     "data": {
      "text/plain": [
       "array([0.73164562, 0.52828081, 0.1848753 , ..., 0.38703223, 0.79936847,\n",
       "       0.24332896])"
      ]
     },
     "execution_count": 31,
     "metadata": {},
     "output_type": "execute_result"
    }
   ],
   "source": []
  },
  {
   "cell_type": "code",
   "execution_count": null,
   "metadata": {},
   "outputs": [],
   "source": []
  },
  {
   "cell_type": "code",
   "execution_count": null,
   "metadata": {},
   "outputs": [],
   "source": []
  },
  {
   "cell_type": "code",
   "execution_count": 14,
   "metadata": {},
   "outputs": [],
   "source": [
    "import lightgbm as lgb\n",
    "\n",
    "train_data = lgb.Dataset(x_train, label=y_train)\n",
    " \n",
    "# Create a LightGBM dataset for testing with features X_val and labels Y_val,\n",
    "# and specify the reference dataset as train_data for consistent evaluation\n",
    "test_data = lgb.Dataset(x_test, label=y_test, reference=train_data)"
   ]
  },
  {
   "cell_type": "code",
   "execution_count": 24,
   "metadata": {},
   "outputs": [
    {
     "name": "stdout",
     "output_type": "stream",
     "text": [
      "[LightGBM] [Info] Number of positive: 419073, number of negative: 409945\n",
      "[LightGBM] [Warning] Auto-choosing col-wise multi-threading, the overhead of testing was 2.622498 seconds.\n",
      "You can set `force_col_wise=true` to remove the overhead.\n",
      "[LightGBM] [Info] Total Bins 53275\n",
      "[LightGBM] [Info] Number of data points in the train set: 829018, number of used features: 220\n",
      "[LightGBM] [Info] [binary:BoostFromScore]: pavg=0.505505 -> initscore=0.022022\n",
      "[LightGBM] [Info] Start training from score 0.022022\n",
      "[1]\tvalid_0's l2: 0.574475\n",
      "Training until validation scores don't improve for 50 rounds\n",
      "[2]\tvalid_0's l2: 0.565455\n",
      "[3]\tvalid_0's l2: 0.557469\n",
      "[4]\tvalid_0's l2: 0.550582\n",
      "[5]\tvalid_0's l2: 0.544564\n",
      "[6]\tvalid_0's l2: 0.539142\n",
      "[7]\tvalid_0's l2: 0.534299\n",
      "[8]\tvalid_0's l2: 0.530074\n",
      "[9]\tvalid_0's l2: 0.526172\n",
      "[10]\tvalid_0's l2: 0.522627\n",
      "Did not meet early stopping. Best iteration is:\n",
      "[10]\tvalid_0's l2: 0.522627\n"
     ]
    }
   ],
   "source": [
    "params = {\n",
    "    'objective': 'binary',\n",
    "    'metric': 'mse',\n",
    "    'learning_rate': 0.1\n",
    "}\n",
    "#0.137879 (1265 итераций)\n",
    "num_round = 10\n",
    "bst = lgb.train(params, train_data, num_round, valid_sets=[\n",
    "                test_data], early_stopping_rounds=50)"
   ]
  },
  {
   "cell_type": "code",
   "execution_count": 35,
   "metadata": {},
   "outputs": [
    {
     "data": {
      "text/plain": [
       "array([1., 1., 1., 1., 1., 1., 1., 1., 1., 1.])"
      ]
     },
     "execution_count": 35,
     "metadata": {},
     "output_type": "execute_result"
    }
   ],
   "source": [
    "bst.predict(x_train[30:40])"
   ]
  },
  {
   "cell_type": "code",
   "execution_count": 26,
   "metadata": {},
   "outputs": [
    {
     "data": {
      "text/plain": [
       "array([-0.59873694,  0.56880009,  0.54036009,  0.26352009, -0.73509189,\n",
       "        0.95      , -0.41812034, -0.857375  , -0.35848592,  0.56880009])"
      ]
     },
     "execution_count": 26,
     "metadata": {},
     "output_type": "execute_result"
    }
   ],
   "source": [
    "y_train[30:40]"
   ]
  },
  {
   "cell_type": "code",
   "execution_count": 20,
   "metadata": {},
   "outputs": [
    {
     "ename": "ModuleNotFoundError",
     "evalue": "No module named 'fastai'",
     "output_type": "error",
     "traceback": [
      "\u001b[1;31m---------------------------------------------------------------------------\u001b[0m",
      "\u001b[1;31mModuleNotFoundError\u001b[0m                       Traceback (most recent call last)",
      "\u001b[1;32m<ipython-input-20-79f5be89469c>\u001b[0m in \u001b[0;36m<module>\u001b[1;34m\u001b[0m\n\u001b[1;32m----> 1\u001b[1;33m \u001b[1;32mfrom\u001b[0m \u001b[0mfastai\u001b[0m\u001b[1;33m.\u001b[0m\u001b[0mtabular\u001b[0m\u001b[1;33m.\u001b[0m\u001b[0mall\u001b[0m \u001b[1;32mimport\u001b[0m \u001b[1;33m*\u001b[0m\u001b[1;33m\u001b[0m\u001b[1;33m\u001b[0m\u001b[0m\n\u001b[0m",
      "\u001b[1;31mModuleNotFoundError\u001b[0m: No module named 'fastai'"
     ]
    }
   ],
   "source": [
    "from fastai.tabular.all import *"
   ]
  },
  {
   "cell_type": "code",
   "execution_count": null,
   "metadata": {},
   "outputs": [],
   "source": []
  }
 ],
 "metadata": {
  "kernelspec": {
   "display_name": "Python 3",
   "language": "python",
   "name": "python3"
  },
  "language_info": {
   "codemirror_mode": {
    "name": "ipython",
    "version": 3
   },
   "file_extension": ".py",
   "mimetype": "text/x-python",
   "name": "python",
   "nbconvert_exporter": "python",
   "pygments_lexer": "ipython3",
   "version": "3.6.10"
  }
 },
 "nbformat": 4,
 "nbformat_minor": 4
}
