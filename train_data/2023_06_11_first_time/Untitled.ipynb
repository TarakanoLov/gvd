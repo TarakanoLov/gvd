{
 "cells": [
  {
   "cell_type": "code",
   "execution_count": 34,
   "metadata": {},
   "outputs": [],
   "source": [
    "from sklearn.ensemble import RandomForestRegressor\n",
    "from sklearn.metrics import mean_absolute_error"
   ]
  },
  {
   "cell_type": "code",
   "execution_count": 35,
   "metadata": {},
   "outputs": [],
   "source": [
    "import pickle"
   ]
  },
  {
   "cell_type": "code",
   "execution_count": 36,
   "metadata": {},
   "outputs": [],
   "source": [
    "with open('train.pickle', 'rb') as f:\n",
    "     (train_in, train_out) = pickle.load(f)"
   ]
  },
  {
   "cell_type": "code",
   "execution_count": 37,
   "metadata": {},
   "outputs": [],
   "source": [
    "with open('test.pickle', 'rb') as f:\n",
    "     (test_in, test_out) = pickle.load(f)"
   ]
  },
  {
   "cell_type": "code",
   "execution_count": 48,
   "metadata": {},
   "outputs": [],
   "source": [
    "model_rf = RandomForestRegressor(n_jobs=-1, verbose=2, n_estimators=100, min_samples_split=100)"
   ]
  },
  {
   "cell_type": "code",
   "execution_count": 49,
   "metadata": {},
   "outputs": [
    {
     "name": "stderr",
     "output_type": "stream",
     "text": [
      "[Parallel(n_jobs=-1)]: Using backend ThreadingBackend with 4 concurrent workers.\n"
     ]
    },
    {
     "name": "stdout",
     "output_type": "stream",
     "text": [
      "building tree 1 of 100\n",
      "building tree 2 of 100building tree 3 of 100\n",
      "\n",
      "building tree 4 of 100\n",
      "building tree 5 of 100\n",
      "building tree 6 of 100\n",
      "building tree 7 of 100\n",
      "building tree 8 of 100\n",
      "building tree 9 of 100\n",
      "building tree 10 of 100\n",
      "building tree 11 of 100\n",
      "building tree 12 of 100\n",
      "building tree 13 of 100\n",
      "building tree 14 of 100\n",
      "building tree 15 of 100\n",
      "building tree 16 of 100\n",
      "building tree 17 of 100\n",
      "building tree 18 of 100\n",
      "building tree 19 of 100\n",
      "building tree 20 of 100\n",
      "building tree 21 of 100\n",
      "building tree 22 of 100\n",
      "building tree 23 of 100\n",
      "building tree 24 of 100\n",
      "building tree 25 of 100\n",
      "building tree 26 of 100\n",
      "building tree 27 of 100\n",
      "building tree 28 of 100\n",
      "building tree 29 of 100\n",
      "building tree 30 of 100\n",
      "building tree 31 of 100\n",
      "building tree 32 of 100\n",
      "building tree 33 of 100\n",
      "building tree 34 of 100\n",
      "building tree 35 of 100\n",
      "building tree 36 of 100\n"
     ]
    },
    {
     "name": "stderr",
     "output_type": "stream",
     "text": [
      "[Parallel(n_jobs=-1)]: Done  33 tasks      | elapsed:  4.3min\n"
     ]
    },
    {
     "name": "stdout",
     "output_type": "stream",
     "text": [
      "building tree 37 of 100\n",
      "building tree 38 of 100\n",
      "building tree 39 of 100\n",
      "building tree 40 of 100\n",
      "building tree 41 of 100\n",
      "building tree 42 of 100\n",
      "building tree 43 of 100\n",
      "building tree 44 of 100\n",
      "building tree 45 of 100\n",
      "building tree 46 of 100\n",
      "building tree 47 of 100\n",
      "building tree 48 of 100\n",
      "building tree 49 of 100\n",
      "building tree 50 of 100\n",
      "building tree 51 of 100\n",
      "building tree 52 of 100\n",
      "building tree 53 of 100\n",
      "building tree 54 of 100\n",
      "building tree 55 of 100\n",
      "building tree 56 of 100\n",
      "building tree 57 of 100\n",
      "building tree 58 of 100\n",
      "building tree 59 of 100\n",
      "building tree 60 of 100\n",
      "building tree 61 of 100\n",
      "building tree 62 of 100\n",
      "building tree 63 of 100\n",
      "building tree 64 of 100\n",
      "building tree 65 of 100\n",
      "building tree 66 of 100\n",
      "building tree 67 of 100\n",
      "building tree 68 of 100\n",
      "building tree 69 of 100\n",
      "building tree 70 of 100\n",
      "building tree 71 of 100\n",
      "building tree 72 of 100\n",
      "building tree 73 of 100\n",
      "building tree 74 of 100\n",
      "building tree 75 of 100\n",
      "building tree 76 of 100\n",
      "building tree 77 of 100\n",
      "building tree 78 of 100\n",
      "building tree 79 of 100\n",
      "building tree 80 of 100\n",
      "building tree 81 of 100\n",
      "building tree 82 of 100\n",
      "building tree 83 of 100\n",
      "building tree 84 of 100\n",
      "building tree 85 of 100\n",
      "building tree 86 of 100\n",
      "building tree 87 of 100\n",
      "building tree 88 of 100\n",
      "building tree 89 of 100\n",
      "building tree 90 of 100\n",
      "building tree 91 of 100\n",
      "building tree 92 of 100\n",
      "building tree 93 of 100\n",
      "building tree 94 of 100\n",
      "building tree 95 of 100\n",
      "building tree 96 of 100\n",
      "building tree 97 of 100\n",
      "building tree 98 of 100\n",
      "building tree 99 of 100\n",
      "building tree 100 of 100\n"
     ]
    },
    {
     "name": "stderr",
     "output_type": "stream",
     "text": [
      "[Parallel(n_jobs=-1)]: Done 100 out of 100 | elapsed: 12.2min finished\n"
     ]
    },
    {
     "data": {
      "text/plain": [
       "RandomForestRegressor(min_samples_split=100, n_jobs=-1, verbose=2)"
      ]
     },
     "execution_count": 49,
     "metadata": {},
     "output_type": "execute_result"
    }
   ],
   "source": [
    "model_rf.fit(train_in, train_out)"
   ]
  },
  {
   "cell_type": "code",
   "execution_count": 50,
   "metadata": {},
   "outputs": [
    {
     "name": "stderr",
     "output_type": "stream",
     "text": [
      "[Parallel(n_jobs=4)]: Using backend ThreadingBackend with 4 concurrent workers.\n",
      "[Parallel(n_jobs=4)]: Done  33 tasks      | elapsed:    0.3s\n",
      "[Parallel(n_jobs=4)]: Done 100 out of 100 | elapsed:    1.2s finished\n"
     ]
    },
    {
     "data": {
      "text/plain": [
       "array([-0.00866763, -0.16530198, -0.1561505 , -0.1815686 ,  0.01385284,\n",
       "        0.0677373 ,  0.01636165,  0.20811139, -0.02931016,  0.00175768,\n",
       "        0.11818946,  0.06209449,  0.02089658, -0.08105419,  0.15083829,\n",
       "        0.22385766,  0.20492272,  0.15734573,  0.25643773,  0.18447248,\n",
       "        0.10770147, -0.39407752,  0.25298354,  0.26932334,  0.25238111,\n",
       "       -0.35374609, -0.35303093,  0.27756787,  0.15065001,  0.15574367,\n",
       "        0.47125889,  0.45254996,  0.49301197,  0.47009373,  0.4708974 ,\n",
       "        0.26474921,  0.00763435, -0.13774427,  0.08129316,  0.33924595,\n",
       "        0.35963687,  0.25027198,  0.15409164,  0.15778723,  0.13179754,\n",
       "        0.19229417, -0.34866897,  0.01569438, -0.36752675,  0.14631658,\n",
       "        0.17868343,  0.43198636,  0.40837934,  0.01625618,  0.05426333,\n",
       "        0.52490549,  0.53523601,  0.5235432 ,  0.61894984,  0.86358207,\n",
       "        0.89196125,  0.74546724,  0.85922751,  0.11044163, -0.07008911,\n",
       "        0.17495575,  0.35786934, -0.07424161,  0.14279865,  0.38298417,\n",
       "        0.35216202,  0.35216202,  0.37275292,  0.48930308,  0.47809114,\n",
       "        0.5239228 ,  0.48496105,  0.45307686,  0.46491749,  0.53545494,\n",
       "        0.06354433,  0.11571103,  0.06844774,  0.1393264 ,  0.1853059 ,\n",
       "        0.24478306,  0.68893054,  0.71933408,  0.24094323,  0.29266297,\n",
       "        0.156678  ,  0.02013333,  0.01562418,  0.30911934,  0.26117388,\n",
       "        0.17216365,  0.14273002,  0.17079259,  0.06843271,  0.38449828])"
      ]
     },
     "execution_count": 50,
     "metadata": {},
     "output_type": "execute_result"
    }
   ],
   "source": [
    "model_rf.predict(test_in)[:100]"
   ]
  },
  {
   "cell_type": "code",
   "execution_count": 51,
   "metadata": {},
   "outputs": [
    {
     "name": "stderr",
     "output_type": "stream",
     "text": [
      "[Parallel(n_jobs=4)]: Using backend ThreadingBackend with 4 concurrent workers.\n",
      "[Parallel(n_jobs=4)]: Done  33 tasks      | elapsed:    0.4s\n",
      "[Parallel(n_jobs=4)]: Done 100 out of 100 | elapsed:    1.4s finished\n"
     ]
    },
    {
     "data": {
      "text/plain": [
       "0.8023511049791937"
      ]
     },
     "execution_count": 51,
     "metadata": {},
     "output_type": "execute_result"
    }
   ],
   "source": [
    "mean_squared_error(test_out, model_rf.predict(test_in))"
   ]
  },
  {
   "cell_type": "code",
   "execution_count": 45,
   "metadata": {},
   "outputs": [
    {
     "name": "stderr",
     "output_type": "stream",
     "text": [
      "[Parallel(n_jobs=-1)]: Using backend ThreadingBackend with 4 concurrent workers.\n"
     ]
    },
    {
     "name": "stdout",
     "output_type": "stream",
     "text": [
      "building tree 1 of 10building tree 2 of 10\n",
      "\n",
      "building tree 3 of 10\n",
      "building tree 4 of 10\n",
      "building tree 5 of 10\n",
      "building tree 6 of 10\n",
      "building tree 7 of 10\n",
      "building tree 8 of 10\n",
      "building tree 9 of 10\n",
      "building tree 10 of 10\n"
     ]
    },
    {
     "name": "stderr",
     "output_type": "stream",
     "text": [
      "[Parallel(n_jobs=-1)]: Done  10 out of  10 | elapsed:  1.3min finished\n"
     ]
    },
    {
     "data": {
      "text/plain": [
       "RandomForestRegressor(min_samples_split=100, n_estimators=10, n_jobs=-1,\n",
       "                      verbose=2)"
      ]
     },
     "execution_count": 45,
     "metadata": {},
     "output_type": "execute_result"
    }
   ],
   "source": [
    "model_rf2 = RandomForestRegressor(n_jobs=-1, verbose=2, n_estimators=10, min_samples_split=100)\n",
    "model_rf2.fit(train_in, train_out)"
   ]
  },
  {
   "cell_type": "code",
   "execution_count": 46,
   "metadata": {},
   "outputs": [
    {
     "name": "stderr",
     "output_type": "stream",
     "text": [
      "[Parallel(n_jobs=4)]: Using backend ThreadingBackend with 4 concurrent workers.\n",
      "[Parallel(n_jobs=4)]: Done  10 out of  10 | elapsed:    0.0s finished\n"
     ]
    },
    {
     "data": {
      "text/plain": [
       "0.8364045063058054"
      ]
     },
     "execution_count": 46,
     "metadata": {},
     "output_type": "execute_result"
    }
   ],
   "source": [
    "mean_squared_error(test_out, model_rf2.predict(test_in))"
   ]
  },
  {
   "cell_type": "code",
   "execution_count": 47,
   "metadata": {},
   "outputs": [
    {
     "name": "stderr",
     "output_type": "stream",
     "text": [
      "[Parallel(n_jobs=4)]: Using backend ThreadingBackend with 4 concurrent workers.\n",
      "[Parallel(n_jobs=4)]: Done  10 out of  10 | elapsed:    0.0s finished\n"
     ]
    },
    {
     "data": {
      "text/plain": [
       "array([-0.04698435, -0.11613995, -0.08363304, -0.08363304, -0.1615298 ,\n",
       "       -0.06835355, -0.11241288,  0.10541702,  0.21331398,  0.21331398,\n",
       "        0.43805835,  0.41205835,  0.24250355,  0.01595659,  0.00967771,\n",
       "        0.02212907,  0.32668526,  0.38107122,  0.22280266,  0.2829064 ,\n",
       "        0.24531241, -0.63841328,  0.14334731,  0.14334731,  0.14334731,\n",
       "       -0.61161202, -0.49225718,  0.01466514,  0.01466514, -0.25773069,\n",
       "        0.35198198,  0.44203527,  0.44203527,  0.52203527,  0.37203527,\n",
       "        0.25661038, -0.15234144, -0.186596  ,  0.01839004,  0.43728951,\n",
       "        0.30307951,  0.25400753,  0.2152419 ,  0.19056707,  0.23159863,\n",
       "        0.06677123, -0.62623533,  0.04800259, -0.39729266,  0.22682836,\n",
       "       -0.0398383 ,  0.10573222,  0.18316812,  0.11001411, -0.1665742 ,\n",
       "        0.00112163,  0.43074148,  0.43074148,  0.49770983,  0.89072165,\n",
       "        0.91501832,  0.50958974,  0.94358974,  0.18181998,  0.07046783,\n",
       "        0.04022798,  0.29790498, -0.28410717, -0.04250138,  0.38133218,\n",
       "        0.2630714 ,  0.2630714 ,  0.47743921,  0.32137049,  0.16581494,\n",
       "        0.02966029,  0.02966029,  0.29597738,  0.18521584,  0.5084077 ,\n",
       "        0.40491655,  0.39970822,  0.40711562,  0.31169412,  0.24374302,\n",
       "        0.31504364,  0.64623844,  0.64623844,  0.54778324,  0.11411989,\n",
       "        0.04673082, -0.17765048, -0.19212838,  0.10966983,  0.5218429 ,\n",
       "        0.30738279,  0.30738279,  0.39444076, -0.07357884,  0.38555862])"
      ]
     },
     "execution_count": 47,
     "metadata": {},
     "output_type": "execute_result"
    }
   ],
   "source": [
    "model_rf2.predict(test_in)[:100]"
   ]
  },
  {
   "cell_type": "code",
   "execution_count": 92,
   "metadata": {},
   "outputs": [],
   "source": [
    "with open('random_forest.pickle', 'wb') as f:\n",
    "    pickle.dump(model_rf, f)"
   ]
  },
  {
   "cell_type": "code",
   "execution_count": null,
   "metadata": {},
   "outputs": [],
   "source": []
  },
  {
   "cell_type": "code",
   "execution_count": 85,
   "metadata": {},
   "outputs": [],
   "source": [
    "from sklearn.metrics import mean_squared_error\n",
    "import numpy as np"
   ]
  },
  {
   "cell_type": "code",
   "execution_count": 86,
   "metadata": {},
   "outputs": [
    {
     "name": "stderr",
     "output_type": "stream",
     "text": [
      "[Parallel(n_jobs=4)]: Using backend ThreadingBackend with 4 concurrent workers.\n",
      "[Parallel(n_jobs=4)]: Done  33 tasks      | elapsed:    0.6s\n",
      "[Parallel(n_jobs=4)]: Done 100 out of 100 | elapsed:    1.8s finished\n"
     ]
    },
    {
     "name": "stdout",
     "output_type": "stream",
     "text": [
      "0.8005294921920726\n"
     ]
    },
    {
     "name": "stderr",
     "output_type": "stream",
     "text": [
      "[Parallel(n_jobs=4)]: Using backend ThreadingBackend with 4 concurrent workers.\n",
      "[Parallel(n_jobs=4)]: Done  33 tasks      | elapsed:    0.5s\n"
     ]
    },
    {
     "name": "stdout",
     "output_type": "stream",
     "text": [
      "0.8005294921920726\n"
     ]
    },
    {
     "name": "stderr",
     "output_type": "stream",
     "text": [
      "[Parallel(n_jobs=4)]: Done 100 out of 100 | elapsed:    1.7s finished\n"
     ]
    },
    {
     "data": {
      "text/plain": [
       "(None, None)"
      ]
     },
     "execution_count": 86,
     "metadata": {},
     "output_type": "execute_result"
    }
   ],
   "source": [
    "print(mean_squared_error(test_out, np.clip(model_rf.predict(test_in), -1, 1))), print(mean_squared_error(test_out, model_rf.predict(test_in)))"
   ]
  },
  {
   "cell_type": "code",
   "execution_count": 31,
   "metadata": {},
   "outputs": [
    {
     "name": "stderr",
     "output_type": "stream",
     "text": [
      "[Parallel(n_jobs=4)]: Using backend ThreadingBackend with 4 concurrent workers.\n",
      "[Parallel(n_jobs=4)]: Done  33 tasks      | elapsed:    0.4s\n",
      "[Parallel(n_jobs=4)]: Done 100 out of 100 | elapsed:    1.3s finished\n"
     ]
    },
    {
     "data": {
      "text/plain": [
       "array([0.38, 0.06, 0.02, ..., 0.64, 0.68, 0.78])"
      ]
     },
     "execution_count": 31,
     "metadata": {},
     "output_type": "execute_result"
    }
   ],
   "source": [
    "model.predict(test_in)"
   ]
  },
  {
   "cell_type": "code",
   "execution_count": 18,
   "metadata": {},
   "outputs": [
    {
     "data": {
      "text/plain": [
       "81450"
      ]
     },
     "execution_count": 18,
     "metadata": {},
     "output_type": "execute_result"
    }
   ],
   "source": [
    "len(train_out)"
   ]
  },
  {
   "cell_type": "code",
   "execution_count": 19,
   "metadata": {},
   "outputs": [
    {
     "data": {
      "text/plain": [
       "83972"
      ]
     },
     "execution_count": 19,
     "metadata": {},
     "output_type": "execute_result"
    }
   ],
   "source": [
    "len(test_out)"
   ]
  },
  {
   "cell_type": "code",
   "execution_count": 21,
   "metadata": {},
   "outputs": [
    {
     "data": {
      "text/plain": [
       "array([0, 0, 0, 0, 0, 0, 0, 0, 0, 0, 0, 0, 0, 0, 0, 0, 0, 0, 0, 0, 0, 0,\n",
       "       0, 0, 0, 0, 0, 0, 0, 0, 0, 0, 0, 0, 0, 0, 0, 0, 0, 0, 0, 0, 0, 0,\n",
       "       0, 0, 0, 0, 0, 0, 0, 0, 0, 0, 0, 0, 0, 0, 0, 0, 0, 0, 0, 0, 0, 0,\n",
       "       0, 0, 0, 0, 0, 0, 0, 0, 0, 0, 0, 0, 0, 0, 0, 0, 0, 0, 0, 0, 0, 0,\n",
       "       0, 0, 0, 0, 0, 0, 0, 0, 0, 0, 0, 0])"
      ]
     },
     "execution_count": 21,
     "metadata": {},
     "output_type": "execute_result"
    }
   ],
   "source": [
    "test_out[len(test_out) - 100: len(test_out)]"
   ]
  },
  {
   "cell_type": "code",
   "execution_count": 23,
   "metadata": {},
   "outputs": [
    {
     "data": {
      "text/plain": [
       "array([0, 0, 0, ..., 0, 0, 0])"
      ]
     },
     "execution_count": 23,
     "metadata": {},
     "output_type": "execute_result"
    }
   ],
   "source": [
    "test_out[:10000]"
   ]
  },
  {
   "cell_type": "code",
   "execution_count": 24,
   "metadata": {},
   "outputs": [
    {
     "name": "stdout",
     "output_type": "stream",
     "text": [
      "(array([[ 3.29573577e-03, -4.13861274e-01, -4.68701032e-02, ...,\n",
      "         7.70000000e+01,  0.00000000e+00,  6.00000000e+01],\n",
      "       [-3.08739259e-01, -4.13861274e-01, -3.57042241e-01, ...,\n",
      "         7.70000000e+01,  0.00000000e+00,  6.00000000e+01],\n",
      "       [-3.08739259e-01, -8.00814069e-02, -7.70605093e-01, ...,\n",
      "         7.70000000e+01,  0.00000000e+00,  6.00000000e+01],\n",
      "       ...,\n",
      "       [ 2.11319065e-01,  2.53698461e-01,  2.95146057e+00, ...,\n",
      "         1.50000000e+01,  3.80000000e+01,  1.00000000e+02],\n",
      "       [-1.66089090e+00, -9.70161054e-01,  2.95146057e+00, ...,\n",
      "         1.50000000e+01,  3.80000000e+01,  1.00000000e+02],\n",
      "       [-1.66089090e+00, -9.70161054e-01,  2.74467914e+00, ...,\n",
      "         1.50000000e+01,  3.80000000e+01,  1.00000000e+02]]), array([0, 0, 0, ..., 0, 0, 0]))\n"
     ]
    }
   ],
   "source": [
    "with open('train.pickle', 'rb') as f:\n",
    "     print(pickle.load(f))"
   ]
  },
  {
   "cell_type": "code",
   "execution_count": 43,
   "metadata": {},
   "outputs": [
    {
     "name": "stderr",
     "output_type": "stream",
     "text": [
      "Using TensorFlow backend.\n"
     ]
    }
   ],
   "source": [
    "import critic_model"
   ]
  },
  {
   "cell_type": "code",
   "execution_count": 62,
   "metadata": {},
   "outputs": [],
   "source": [
    "critic = critic_model.make_critic_model()\n",
    "    #critic.load_weights('new_critic.h5')\n",
    "critic.load_weights('amazing_new_critic.h5')"
   ]
  },
  {
   "cell_type": "code",
   "execution_count": 68,
   "metadata": {},
   "outputs": [
    {
     "name": "stdout",
     "output_type": "stream",
     "text": [
      "0.8786159087526862\n"
     ]
    }
   ],
   "source": [
    "print(mean_squared_error(test_out, critic.predict(test_in)))"
   ]
  },
  {
   "cell_type": "code",
   "execution_count": 53,
   "metadata": {},
   "outputs": [
    {
     "name": "stdout",
     "output_type": "stream",
     "text": [
      "0.7228071832494558\n"
     ]
    }
   ],
   "source": [
    "print(mean_absolute_error(test_out, critic.predict(test_in)))"
   ]
  },
  {
   "cell_type": "code",
   "execution_count": 46,
   "metadata": {},
   "outputs": [],
   "source": [
    "critic = critic_model.make_critic_model()\n",
    "critic.load_weights('new_critic.h5')"
   ]
  },
  {
   "cell_type": "code",
   "execution_count": 47,
   "metadata": {},
   "outputs": [
    {
     "name": "stdout",
     "output_type": "stream",
     "text": [
      "1.0823793901960888\n"
     ]
    }
   ],
   "source": [
    "print(mean_squared_error(test_out, critic.predict(test_in)))"
   ]
  },
  {
   "cell_type": "code",
   "execution_count": 48,
   "metadata": {},
   "outputs": [
    {
     "ename": "ImportError",
     "evalue": "cannot import name 'HistGradientBoostingRegressor'",
     "output_type": "error",
     "traceback": [
      "\u001b[1;31m---------------------------------------------------------------------------\u001b[0m",
      "\u001b[1;31mImportError\u001b[0m                               Traceback (most recent call last)",
      "\u001b[1;32m<ipython-input-48-47b8aeb492fe>\u001b[0m in \u001b[0;36m<module>\u001b[1;34m\u001b[0m\n\u001b[1;32m----> 1\u001b[1;33m \u001b[1;32mfrom\u001b[0m \u001b[0msklearn\u001b[0m\u001b[1;33m.\u001b[0m\u001b[0mensemble\u001b[0m \u001b[1;32mimport\u001b[0m \u001b[0mHistGradientBoostingRegressor\u001b[0m\u001b[1;33m\u001b[0m\u001b[1;33m\u001b[0m\u001b[0m\n\u001b[0m",
      "\u001b[1;31mImportError\u001b[0m: cannot import name 'HistGradientBoostingRegressor'"
     ]
    }
   ],
   "source": [
    "from sklearn.ensemble import HistGradientBoostingRegressor"
   ]
  },
  {
   "cell_type": "code",
   "execution_count": 67,
   "metadata": {},
   "outputs": [],
   "source": [
    "from sklearn.metrics import mean_absolute_error, mean_squared_error"
   ]
  },
  {
   "cell_type": "code",
   "execution_count": 50,
   "metadata": {},
   "outputs": [
    {
     "name": "stderr",
     "output_type": "stream",
     "text": [
      "[Parallel(n_jobs=4)]: Using backend ThreadingBackend with 4 concurrent workers.\n",
      "[Parallel(n_jobs=4)]: Done  33 tasks      | elapsed:    0.6s\n",
      "[Parallel(n_jobs=4)]: Done 100 out of 100 | elapsed:    1.9s finished\n"
     ]
    },
    {
     "name": "stdout",
     "output_type": "stream",
     "text": [
      "0.8536136935889985\n"
     ]
    },
    {
     "name": "stderr",
     "output_type": "stream",
     "text": [
      "[Parallel(n_jobs=4)]: Using backend ThreadingBackend with 4 concurrent workers.\n",
      "[Parallel(n_jobs=4)]: Done  33 tasks      | elapsed:    0.6s\n"
     ]
    },
    {
     "name": "stdout",
     "output_type": "stream",
     "text": [
      "0.8536136935889985\n"
     ]
    },
    {
     "name": "stderr",
     "output_type": "stream",
     "text": [
      "[Parallel(n_jobs=4)]: Done 100 out of 100 | elapsed:    1.9s finished\n"
     ]
    },
    {
     "data": {
      "text/plain": [
       "(None, None)"
      ]
     },
     "execution_count": 50,
     "metadata": {},
     "output_type": "execute_result"
    }
   ],
   "source": [
    "print(mean_absolute_error(test_out, np.clip(model.predict(test_in), -1, 1))), print(mean_absolute_error(test_out, model.predict(test_in)))"
   ]
  },
  {
   "cell_type": "code",
   "execution_count": 51,
   "metadata": {},
   "outputs": [
    {
     "name": "stdout",
     "output_type": "stream",
     "text": [
      "0.7572360071721169\n"
     ]
    }
   ],
   "source": [
    "print(mean_absolute_error(test_out, critic.predict(test_in)))"
   ]
  },
  {
   "cell_type": "code",
   "execution_count": 52,
   "metadata": {},
   "outputs": [],
   "source": [
    "from sklearn import preprocessing"
   ]
  },
  {
   "cell_type": "code",
   "execution_count": 53,
   "metadata": {},
   "outputs": [],
   "source": [
    "f = preprocessing.StandardScaler()"
   ]
  },
  {
   "cell_type": "code",
   "execution_count": 54,
   "metadata": {},
   "outputs": [],
   "source": [
    "train_in_proccesed = f.fit_transform(train_in)"
   ]
  },
  {
   "cell_type": "code",
   "execution_count": 55,
   "metadata": {},
   "outputs": [],
   "source": [
    "test_in_proccesed = f.transform(test_in)"
   ]
  },
  {
   "cell_type": "code",
   "execution_count": 13,
   "metadata": {},
   "outputs": [],
   "source": [
    "with open('critic_scaller.pkl', 'wb') as file:\n",
    "    pickle.dump(f, file)"
   ]
  },
  {
   "cell_type": "code",
   "execution_count": 21,
   "metadata": {},
   "outputs": [],
   "source": [
    "import numpy as np\n",
    "train_out_nine = np.zeros(train_out.shape)\n",
    "for i in range(len(train_out)):\n",
    "    train_out_nine[i] = 0.9 if train_out[i] == 1 else -0.9"
   ]
  },
  {
   "cell_type": "code",
   "execution_count": 23,
   "metadata": {},
   "outputs": [
    {
     "data": {
      "text/plain": [
       "array([-0.9, -0.9, -0.9, -0.9, -0.9, -0.9, -0.9, -0.9, -0.9, -0.9, -0.9,\n",
       "       -0.9, -0.9, -0.9, -0.9, -0.9, -0.9, -0.9, -0.9,  0.9,  0.9,  0.9,\n",
       "        0.9,  0.9,  0.9,  0.9,  0.9,  0.9,  0.9,  0.9,  0.9,  0.9,  0.9,\n",
       "        0.9,  0.9,  0.9,  0.9,  0.9,  0.9,  0.9,  0.9,  0.9,  0.9,  0.9,\n",
       "        0.9,  0.9,  0.9,  0.9,  0.9,  0.9,  0.9,  0.9,  0.9,  0.9,  0.9,\n",
       "        0.9,  0.9,  0.9,  0.9,  0.9,  0.9,  0.9,  0.9,  0.9,  0.9,  0.9,\n",
       "        0.9,  0.9,  0.9,  0.9,  0.9,  0.9,  0.9,  0.9,  0.9,  0.9,  0.9,\n",
       "        0.9,  0.9,  0.9,  0.9,  0.9,  0.9,  0.9,  0.9,  0.9,  0.9, -0.9,\n",
       "       -0.9, -0.9, -0.9, -0.9, -0.9,  0.9,  0.9,  0.9,  0.9,  0.9,  0.9,\n",
       "        0.9])"
      ]
     },
     "execution_count": 23,
     "metadata": {},
     "output_type": "execute_result"
    }
   ],
   "source": [
    "train_out_nine[:100]"
   ]
  },
  {
   "cell_type": "code",
   "execution_count": 56,
   "metadata": {},
   "outputs": [],
   "source": [
    "from keras.layers import Input, Dense, Flatten, Reshape, Dropout, BatchNormalization\n",
    "from keras.models import Model\n",
    "from keras.callbacks import EarlyStopping\n",
    "from keras.optimizers import SGD, Adam, RMSprop, Nadam\n",
    "from keras import backend as K\n",
    "import tensorflow as tf"
   ]
  },
  {
   "cell_type": "code",
   "execution_count": null,
   "metadata": {},
   "outputs": [],
   "source": []
  },
  {
   "cell_type": "code",
   "execution_count": 58,
   "metadata": {},
   "outputs": [],
   "source": [
    "def keras_custom_loss(y_actual, y_predicted):\n",
    "    error = K.abs(y_actual - y_predicted)\n",
    "    clipped_error = tf.clip_by_value(error, 0.0, 1.0)\n",
    "    linear_error  = 2 * (error - clipped_error)\n",
    "    return K.square(clipped_error) + linear_error\n",
    "\n",
    "\n",
    "input = Input(shape=(len(test_in[0]),))\n",
    "x = BatchNormalization()(input)\n",
    "x = Dropout(0.2)(x)\n",
    "x = Dense(256, activation='selu')(x)\n",
    "x = BatchNormalization()(x)\n",
    "x = Dropout(0.2)(x)\n",
    "x = Dense(256, activation='selu')(x)\n",
    "x = BatchNormalization()(x)\n",
    "x = Dropout(0.2)(x)\n",
    "output = Dense(1, activation='tanh')(x)\n",
    "\n",
    "model = Model(input, output, name=\"encoder\")\n",
    "opt = Nadam(lr=0.00005)\n",
    "model.compile(optimizer=opt, loss='mse')\n",
    "model.load_weights('shok_critic.h5')\n",
    "\n",
    "#callbacks = [EarlyStopping(monitor = 'val_loss', patience = 1)]\n",
    "#model.fit(train_in_proccesed, train_out,\n",
    "#                epochs=100,\n",
    "#                shuffle=True,\n",
    "#                batch_size=512,\n",
    "#                validation_data=(test_in_proccesed, test_out), callbacks=callbacks)"
   ]
  },
  {
   "cell_type": "code",
   "execution_count": 90,
   "metadata": {},
   "outputs": [
    {
     "name": "stderr",
     "output_type": "stream",
     "text": [
      "[Parallel(n_jobs=4)]: Using backend ThreadingBackend with 4 concurrent workers.\n",
      "[Parallel(n_jobs=4)]: Done  33 tasks      | elapsed:    0.0s\n",
      "[Parallel(n_jobs=4)]: Done 100 out of 100 | elapsed:    0.0s finished\n"
     ]
    },
    {
     "data": {
      "text/plain": [
       "0.7576893433259386"
      ]
     },
     "execution_count": 90,
     "metadata": {},
     "output_type": "execute_result"
    }
   ],
   "source": [
    "mean_squared_error(test_out[:10000].reshape(10000, 1), ((model.predict(test_in_proccesed[:10000]) + np.array(model_rf.predict(test_in[:10000])).reshape(10000,1))/2))"
   ]
  },
  {
   "cell_type": "code",
   "execution_count": 88,
   "metadata": {},
   "outputs": [
    {
     "data": {
      "text/plain": [
       "0.8134972117045088"
      ]
     },
     "execution_count": 88,
     "metadata": {},
     "output_type": "execute_result"
    }
   ],
   "source": [
    "mean_squared_error(test_out[:10000].reshape(10000, 1), model.predict(test_in_proccesed[:10000]))"
   ]
  },
  {
   "cell_type": "code",
   "execution_count": 91,
   "metadata": {},
   "outputs": [
    {
     "name": "stderr",
     "output_type": "stream",
     "text": [
      "[Parallel(n_jobs=4)]: Using backend ThreadingBackend with 4 concurrent workers.\n",
      "[Parallel(n_jobs=4)]: Done  33 tasks      | elapsed:    0.0s\n",
      "[Parallel(n_jobs=4)]: Done 100 out of 100 | elapsed:    0.1s finished\n"
     ]
    },
    {
     "data": {
      "text/plain": [
       "0.814512432625586"
      ]
     },
     "execution_count": 91,
     "metadata": {},
     "output_type": "execute_result"
    }
   ],
   "source": [
    "mean_squared_error(test_out[:10000].reshape(10000, 1), np.array(model_rf.predict(test_in[:10000])).reshape(10000,1))"
   ]
  },
  {
   "cell_type": "code",
   "execution_count": null,
   "metadata": {},
   "outputs": [],
   "source": []
  },
  {
   "cell_type": "code",
   "execution_count": null,
   "metadata": {},
   "outputs": [],
   "source": []
  },
  {
   "cell_type": "code",
   "execution_count": null,
   "metadata": {},
   "outputs": [],
   "source": []
  },
  {
   "cell_type": "code",
   "execution_count": 76,
   "metadata": {},
   "outputs": [
    {
     "data": {
      "text/plain": [
       "array([[1],\n",
       "       [1],\n",
       "       [1],\n",
       "       [1],\n",
       "       [1],\n",
       "       [1],\n",
       "       [1],\n",
       "       [1],\n",
       "       [1],\n",
       "       [1],\n",
       "       [1],\n",
       "       [1],\n",
       "       [1],\n",
       "       [1],\n",
       "       [1],\n",
       "       [1],\n",
       "       [1],\n",
       "       [1],\n",
       "       [1],\n",
       "       [1],\n",
       "       [1],\n",
       "       [1],\n",
       "       [1],\n",
       "       [1],\n",
       "       [1],\n",
       "       [1],\n",
       "       [1],\n",
       "       [1],\n",
       "       [1],\n",
       "       [1],\n",
       "       [1],\n",
       "       [1],\n",
       "       [1],\n",
       "       [1],\n",
       "       [1],\n",
       "       [1],\n",
       "       [1],\n",
       "       [1],\n",
       "       [1],\n",
       "       [1],\n",
       "       [1],\n",
       "       [1],\n",
       "       [1],\n",
       "       [1],\n",
       "       [1],\n",
       "       [1],\n",
       "       [1],\n",
       "       [1],\n",
       "       [1],\n",
       "       [1],\n",
       "       [1],\n",
       "       [1],\n",
       "       [1],\n",
       "       [1],\n",
       "       [1],\n",
       "       [1],\n",
       "       [1],\n",
       "       [1],\n",
       "       [1],\n",
       "       [1],\n",
       "       [1],\n",
       "       [1],\n",
       "       [1],\n",
       "       [1],\n",
       "       [1],\n",
       "       [1],\n",
       "       [1],\n",
       "       [1],\n",
       "       [1],\n",
       "       [1],\n",
       "       [1],\n",
       "       [1],\n",
       "       [1],\n",
       "       [1],\n",
       "       [1],\n",
       "       [1],\n",
       "       [1],\n",
       "       [1],\n",
       "       [1],\n",
       "       [1],\n",
       "       [1],\n",
       "       [1],\n",
       "       [1],\n",
       "       [1],\n",
       "       [1],\n",
       "       [1],\n",
       "       [1],\n",
       "       [1],\n",
       "       [1],\n",
       "       [1],\n",
       "       [1],\n",
       "       [1],\n",
       "       [1],\n",
       "       [1],\n",
       "       [1],\n",
       "       [1],\n",
       "       [1],\n",
       "       [1],\n",
       "       [1],\n",
       "       [1]])"
      ]
     },
     "execution_count": 76,
     "metadata": {},
     "output_type": "execute_result"
    }
   ],
   "source": [
    "test_out[:100].reshape(100, 1)"
   ]
  },
  {
   "cell_type": "code",
   "execution_count": 77,
   "metadata": {},
   "outputs": [
    {
     "name": "stderr",
     "output_type": "stream",
     "text": [
      "[Parallel(n_jobs=4)]: Using backend ThreadingBackend with 4 concurrent workers.\n",
      "[Parallel(n_jobs=4)]: Done  33 tasks      | elapsed:    0.0s\n",
      "[Parallel(n_jobs=4)]: Done 100 out of 100 | elapsed:    0.0s finished\n"
     ]
    },
    {
     "data": {
      "text/plain": [
       "array([[ 0.01469036, -0.06362682, -0.05905107, ...,  0.10442047,\n",
       "         0.05324053,  0.21127331],\n",
       "       [-0.01943529, -0.09775247, -0.09317673, ...,  0.07029481,\n",
       "         0.01911488,  0.17714766],\n",
       "       [ 0.12774322,  0.04942605,  0.05400179, ...,  0.21747333,\n",
       "         0.16629339,  0.32432618],\n",
       "       ...,\n",
       "       [ 0.328733  ,  0.25041583,  0.25499157, ...,  0.41846311,\n",
       "         0.36728318,  0.52531596],\n",
       "       [ 0.31377385,  0.23545667,  0.24003242, ...,  0.40350396,\n",
       "         0.35232402,  0.5103568 ],\n",
       "       [ 0.22212993,  0.14381276,  0.1483885 , ...,  0.31186004,\n",
       "         0.26068011,  0.41871289]])"
      ]
     },
     "execution_count": 77,
     "metadata": {},
     "output_type": "execute_result"
    }
   ],
   "source": [
    "((model.predict(test_in_proccesed[:100]) + model_rf.predict(test_in[:100]))/2)"
   ]
  },
  {
   "cell_type": "code",
   "execution_count": 79,
   "metadata": {},
   "outputs": [
    {
     "name": "stderr",
     "output_type": "stream",
     "text": [
      "[Parallel(n_jobs=4)]: Using backend ThreadingBackend with 4 concurrent workers.\n",
      "[Parallel(n_jobs=4)]: Done  33 tasks      | elapsed:    0.0s\n",
      "[Parallel(n_jobs=4)]: Done 100 out of 100 | elapsed:    0.0s finished\n"
     ]
    },
    {
     "data": {
      "text/plain": [
       "array([[ 0.02938072, -0.12725363, -0.11810215, ...,  0.20884093,\n",
       "         0.10648106,  0.42254663],\n",
       "       [-0.03887059, -0.19550494, -0.18635346, ...,  0.14058963,\n",
       "         0.03822975,  0.35429532],\n",
       "       [ 0.25548644,  0.09885209,  0.10800358, ...,  0.43494666,\n",
       "         0.33258679,  0.64865236],\n",
       "       ...,\n",
       "       [ 0.65746601,  0.50083166,  0.50998314, ...,  0.83692623,\n",
       "         0.73456635,  1.05063192],\n",
       "       [ 0.6275477 ,  0.47091335,  0.48006483, ...,  0.80700791,\n",
       "         0.70464804,  1.02071361],\n",
       "       [ 0.44425987,  0.28762552,  0.296777  , ...,  0.62372009,\n",
       "         0.52136021,  0.83742578]])"
      ]
     },
     "execution_count": 79,
     "metadata": {},
     "output_type": "execute_result"
    }
   ],
   "source": [
    "model.predict(test_in_proccesed[:100]) + model_rf.predict(test_in[:100])"
   ]
  },
  {
   "cell_type": "code",
   "execution_count": 82,
   "metadata": {},
   "outputs": [
    {
     "name": "stderr",
     "output_type": "stream",
     "text": [
      "[Parallel(n_jobs=4)]: Using backend ThreadingBackend with 4 concurrent workers.\n",
      "[Parallel(n_jobs=4)]: Done  33 tasks      | elapsed:    0.0s\n",
      "[Parallel(n_jobs=4)]: Done 100 out of 100 | elapsed:    0.0s finished\n"
     ]
    },
    {
     "data": {
      "text/plain": [
       "array([[-0.00866763],\n",
       "       [-0.16530198],\n",
       "       [-0.1561505 ],\n",
       "       [-0.1815686 ],\n",
       "       [ 0.01385284],\n",
       "       [ 0.0677373 ],\n",
       "       [ 0.01636165],\n",
       "       [ 0.20811139],\n",
       "       [-0.02931016],\n",
       "       [ 0.00175768],\n",
       "       [ 0.11818946],\n",
       "       [ 0.06209449],\n",
       "       [ 0.02089658],\n",
       "       [-0.08105419],\n",
       "       [ 0.15083829],\n",
       "       [ 0.22385766],\n",
       "       [ 0.20492272],\n",
       "       [ 0.15734573],\n",
       "       [ 0.25643773],\n",
       "       [ 0.18447248],\n",
       "       [ 0.10770147],\n",
       "       [-0.39407752],\n",
       "       [ 0.25298354],\n",
       "       [ 0.26932334],\n",
       "       [ 0.25238111],\n",
       "       [-0.35374609],\n",
       "       [-0.35303093],\n",
       "       [ 0.27756787],\n",
       "       [ 0.15065001],\n",
       "       [ 0.15574367],\n",
       "       [ 0.47125889],\n",
       "       [ 0.45254996],\n",
       "       [ 0.49301197],\n",
       "       [ 0.47009373],\n",
       "       [ 0.4708974 ],\n",
       "       [ 0.26474921],\n",
       "       [ 0.00763435],\n",
       "       [-0.13774427],\n",
       "       [ 0.08129316],\n",
       "       [ 0.33924595],\n",
       "       [ 0.35963687],\n",
       "       [ 0.25027198],\n",
       "       [ 0.15409164],\n",
       "       [ 0.15778723],\n",
       "       [ 0.13179754],\n",
       "       [ 0.19229417],\n",
       "       [-0.34866897],\n",
       "       [ 0.01569438],\n",
       "       [-0.36752675],\n",
       "       [ 0.14631658],\n",
       "       [ 0.17868343],\n",
       "       [ 0.43198636],\n",
       "       [ 0.40837934],\n",
       "       [ 0.01625618],\n",
       "       [ 0.05426333],\n",
       "       [ 0.52490549],\n",
       "       [ 0.53523601],\n",
       "       [ 0.5235432 ],\n",
       "       [ 0.61894984],\n",
       "       [ 0.86358207],\n",
       "       [ 0.89196125],\n",
       "       [ 0.74546724],\n",
       "       [ 0.85922751],\n",
       "       [ 0.11044163],\n",
       "       [-0.07008911],\n",
       "       [ 0.17495575],\n",
       "       [ 0.35786934],\n",
       "       [-0.07424161],\n",
       "       [ 0.14279865],\n",
       "       [ 0.38298417],\n",
       "       [ 0.35216202],\n",
       "       [ 0.35216202],\n",
       "       [ 0.37275292],\n",
       "       [ 0.48930308],\n",
       "       [ 0.47809114],\n",
       "       [ 0.5239228 ],\n",
       "       [ 0.48496105],\n",
       "       [ 0.45307686],\n",
       "       [ 0.46491749],\n",
       "       [ 0.53545494],\n",
       "       [ 0.06354433],\n",
       "       [ 0.11571103],\n",
       "       [ 0.06844774],\n",
       "       [ 0.1393264 ],\n",
       "       [ 0.1853059 ],\n",
       "       [ 0.24478306],\n",
       "       [ 0.68893054],\n",
       "       [ 0.71933408],\n",
       "       [ 0.24094323],\n",
       "       [ 0.29266297],\n",
       "       [ 0.156678  ],\n",
       "       [ 0.02013333],\n",
       "       [ 0.01562418],\n",
       "       [ 0.30911934],\n",
       "       [ 0.26117388],\n",
       "       [ 0.17216365],\n",
       "       [ 0.14273002],\n",
       "       [ 0.17079259],\n",
       "       [ 0.06843271],\n",
       "       [ 0.38449828]])"
      ]
     },
     "execution_count": 82,
     "metadata": {},
     "output_type": "execute_result"
    }
   ],
   "source": [
    "np.array(model_rf.predict(test_in[:100])).reshape(100, 1)"
   ]
  },
  {
   "cell_type": "code",
   "execution_count": 28,
   "metadata": {},
   "outputs": [
    {
     "ename": "NameError",
     "evalue": "name 'mean_squared_error' is not defined",
     "output_type": "error",
     "traceback": [
      "\u001b[1;31m---------------------------------------------------------------------------\u001b[0m",
      "\u001b[1;31mNameError\u001b[0m                                 Traceback (most recent call last)",
      "\u001b[1;32m<ipython-input-28-02e68dd6d794>\u001b[0m in \u001b[0;36m<module>\u001b[1;34m\u001b[0m\n\u001b[1;32m----> 1\u001b[1;33m \u001b[0mprint\u001b[0m\u001b[1;33m(\u001b[0m\u001b[0mmean_squared_error\u001b[0m\u001b[1;33m(\u001b[0m\u001b[0mtest_out\u001b[0m\u001b[1;33m,\u001b[0m \u001b[1;33m(\u001b[0m\u001b[0mmodel\u001b[0m\u001b[1;33m.\u001b[0m\u001b[0mpredict\u001b[0m\u001b[1;33m(\u001b[0m\u001b[0mtest_in_proccesed\u001b[0m\u001b[1;33m)\u001b[0m \u001b[1;33m+\u001b[0m \u001b[0mmodel_rf\u001b[0m\u001b[1;33m.\u001b[0m\u001b[0mpredict\u001b[0m\u001b[1;33m(\u001b[0m\u001b[0mtest_in\u001b[0m\u001b[1;33m)\u001b[0m\u001b[1;33m)\u001b[0m\u001b[1;33m/\u001b[0m\u001b[1;36m2\u001b[0m\u001b[1;33m)\u001b[0m\u001b[1;33m)\u001b[0m\u001b[1;33m\u001b[0m\u001b[1;33m\u001b[0m\u001b[0m\n\u001b[0m",
      "\u001b[1;31mNameError\u001b[0m: name 'mean_squared_error' is not defined"
     ]
    }
   ],
   "source": [
    "print(mean_squared_error(test_out, (model.predict(test_in_proccesed) + model_rf.predict(test_in))/2))"
   ]
  },
  {
   "cell_type": "code",
   "execution_count": null,
   "metadata": {},
   "outputs": [],
   "source": []
  },
  {
   "cell_type": "code",
   "execution_count": 112,
   "metadata": {},
   "outputs": [
    {
     "name": "stderr",
     "output_type": "stream",
     "text": [
      "[Parallel(n_jobs=4)]: Using backend ThreadingBackend with 4 concurrent workers.\n",
      "[Parallel(n_jobs=4)]: Done  33 tasks      | elapsed:    0.4s\n",
      "[Parallel(n_jobs=4)]: Done 100 out of 100 | elapsed:    1.4s finished\n"
     ]
    }
   ],
   "source": [
    "rf_out = model_rf.predict(test_in)"
   ]
  },
  {
   "cell_type": "code",
   "execution_count": 114,
   "metadata": {},
   "outputs": [],
   "source": [
    "ko = model.predict(test_in_proccesed)"
   ]
  },
  {
   "cell_type": "code",
   "execution_count": 117,
   "metadata": {},
   "outputs": [
    {
     "ename": "MemoryError",
     "evalue": "",
     "output_type": "error",
     "traceback": [
      "\u001b[1;31m---------------------------------------------------------------------------\u001b[0m",
      "\u001b[1;31mMemoryError\u001b[0m                               Traceback (most recent call last)",
      "\u001b[1;32m<ipython-input-117-06e495b57a91>\u001b[0m in \u001b[0;36m<module>\u001b[1;34m\u001b[0m\n\u001b[1;32m----> 1\u001b[1;33m \u001b[0msumm\u001b[0m \u001b[1;33m=\u001b[0m \u001b[1;33m(\u001b[0m\u001b[0mko\u001b[0m \u001b[1;33m+\u001b[0m \u001b[0mrf_out\u001b[0m\u001b[1;33m)\u001b[0m\u001b[1;33m/\u001b[0m\u001b[1;36m2\u001b[0m\u001b[1;33m\u001b[0m\u001b[1;33m\u001b[0m\u001b[0m\n\u001b[0m",
      "\u001b[1;31mMemoryError\u001b[0m: "
     ]
    }
   ],
   "source": [
    "summ = (ko + rf_out)/2"
   ]
  },
  {
   "cell_type": "code",
   "execution_count": 116,
   "metadata": {},
   "outputs": [
    {
     "ename": "MemoryError",
     "evalue": "",
     "output_type": "error",
     "traceback": [
      "\u001b[1;31m---------------------------------------------------------------------------\u001b[0m",
      "\u001b[1;31mMemoryError\u001b[0m                               Traceback (most recent call last)",
      "\u001b[1;32m<ipython-input-116-e6a4910bb76c>\u001b[0m in \u001b[0;36m<module>\u001b[1;34m\u001b[0m\n\u001b[1;32m----> 1\u001b[1;33m \u001b[0mprint\u001b[0m\u001b[1;33m(\u001b[0m\u001b[0mmean_squared_error\u001b[0m\u001b[1;33m(\u001b[0m\u001b[0mtest_out\u001b[0m\u001b[1;33m,\u001b[0m \u001b[1;33m(\u001b[0m\u001b[0mko\u001b[0m \u001b[1;33m+\u001b[0m \u001b[0mrf_out\u001b[0m\u001b[1;33m)\u001b[0m\u001b[1;33m/\u001b[0m\u001b[1;36m2\u001b[0m\u001b[1;33m)\u001b[0m\u001b[1;33m)\u001b[0m\u001b[1;33m\u001b[0m\u001b[1;33m\u001b[0m\u001b[0m\n\u001b[0m",
      "\u001b[1;31mMemoryError\u001b[0m: "
     ]
    }
   ],
   "source": [
    "print(mean_squared_error(test_out, (ko + rf_out)/2))"
   ]
  },
  {
   "cell_type": "code",
   "execution_count": 122,
   "metadata": {},
   "outputs": [],
   "source": [
    "model.save('shok_critic.h5')"
   ]
  },
  {
   "cell_type": "code",
   "execution_count": 33,
   "metadata": {},
   "outputs": [
    {
     "data": {
      "text/plain": [
       "array([[-0.2703937 ],\n",
       "       [-0.02546851],\n",
       "       [ 0.18425106],\n",
       "       [ 0.34169215],\n",
       "       [ 0.5774367 ],\n",
       "       [ 0.18914051],\n",
       "       [ 0.30998552],\n",
       "       [ 0.27702808],\n",
       "       [ 0.34765086],\n",
       "       [ 0.6203407 ],\n",
       "       [ 0.4079286 ],\n",
       "       [ 0.06844299],\n",
       "       [-0.13427263],\n",
       "       [ 0.09278077],\n",
       "       [ 0.0464549 ],\n",
       "       [-0.35477158],\n",
       "       [-0.3274874 ],\n",
       "       [ 0.19883531],\n",
       "       [ 0.24365552],\n",
       "       [ 0.1608511 ],\n",
       "       [ 0.7036806 ],\n",
       "       [-0.49994785],\n",
       "       [-0.17553975],\n",
       "       [ 0.28539866],\n",
       "       [ 0.44561327],\n",
       "       [ 0.49019733],\n",
       "       [ 0.53138924],\n",
       "       [ 0.21872433],\n",
       "       [ 0.5281972 ],\n",
       "       [ 0.44750586],\n",
       "       [ 0.751663  ],\n",
       "       [ 0.8300928 ],\n",
       "       [ 0.8120593 ],\n",
       "       [ 0.8527561 ],\n",
       "       [ 0.9577086 ],\n",
       "       [ 0.21331315],\n",
       "       [-0.14622378],\n",
       "       [-0.50515044],\n",
       "       [-0.29527512],\n",
       "       [ 0.21295051],\n",
       "       [ 0.22389698],\n",
       "       [ 0.43803406],\n",
       "       [ 0.35066068],\n",
       "       [ 0.18879871],\n",
       "       [ 0.02498094],\n",
       "       [-0.01991875],\n",
       "       [-0.25486723],\n",
       "       [-0.02155671],\n",
       "       [-0.07395575],\n",
       "       [ 0.7757582 ],\n",
       "       [ 0.10640974],\n",
       "       [ 0.59976256],\n",
       "       [ 0.49879822],\n",
       "       [ 0.33415407],\n",
       "       [ 0.34685   ],\n",
       "       [ 0.8182029 ],\n",
       "       [ 0.6800724 ],\n",
       "       [ 0.6533178 ],\n",
       "       [ 0.81605595],\n",
       "       [ 0.9514561 ],\n",
       "       [ 0.8671037 ],\n",
       "       [ 0.80147654],\n",
       "       [ 0.96379715],\n",
       "       [-0.19109043],\n",
       "       [-0.02588258],\n",
       "       [ 0.15546122],\n",
       "       [ 0.537425  ],\n",
       "       [-0.1823791 ],\n",
       "       [ 0.51518023],\n",
       "       [ 0.45595095],\n",
       "       [ 0.6666965 ],\n",
       "       [ 0.6861908 ],\n",
       "       [ 0.7696935 ],\n",
       "       [ 0.7017366 ],\n",
       "       [ 0.4942492 ],\n",
       "       [ 0.08517092],\n",
       "       [ 0.45166737],\n",
       "       [ 0.38163465],\n",
       "       [ 0.5754198 ],\n",
       "       [ 0.59248036],\n",
       "       [ 0.25128958],\n",
       "       [ 0.7385859 ],\n",
       "       [ 0.78963274],\n",
       "       [ 0.6758222 ],\n",
       "       [ 0.7817342 ],\n",
       "       [ 0.8355064 ],\n",
       "       [ 0.8699619 ],\n",
       "       [ 0.9318386 ],\n",
       "       [ 0.44252104],\n",
       "       [ 0.81093794],\n",
       "       [ 0.56855196],\n",
       "       [ 0.4834746 ],\n",
       "       [ 0.3515389 ],\n",
       "       [ 0.38942194],\n",
       "       [ 0.4384782 ],\n",
       "       [ 0.5284553 ],\n",
       "       [ 0.6117939 ],\n",
       "       [ 0.8368505 ],\n",
       "       [ 0.68096495],\n",
       "       [ 0.64626527]], dtype=float32)"
      ]
     },
     "execution_count": 33,
     "metadata": {},
     "output_type": "execute_result"
    }
   ],
   "source": [
    "model.predict(test_in_proccesed)[:100]"
   ]
  },
  {
   "cell_type": "code",
   "execution_count": 119,
   "metadata": {},
   "outputs": [
    {
     "data": {
      "text/plain": [
       "array([ 0.06, -0.1 , -0.46, ...,  0.08,  0.  ,  0.34])"
      ]
     },
     "execution_count": 119,
     "metadata": {},
     "output_type": "execute_result"
    }
   ],
   "source": [
    "rf_out"
   ]
  },
  {
   "cell_type": "code",
   "execution_count": null,
   "metadata": {},
   "outputs": [],
   "source": []
  }
 ],
 "metadata": {
  "kernelspec": {
   "display_name": "Python 3",
   "language": "python",
   "name": "python3"
  },
  "language_info": {
   "codemirror_mode": {
    "name": "ipython",
    "version": 3
   },
   "file_extension": ".py",
   "mimetype": "text/x-python",
   "name": "python",
   "nbconvert_exporter": "python",
   "pygments_lexer": "ipython3",
   "version": "3.6.10"
  }
 },
 "nbformat": 4,
 "nbformat_minor": 4
}
